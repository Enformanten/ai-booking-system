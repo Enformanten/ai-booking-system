{
 "cells": [
  {
   "cell_type": "code",
   "execution_count": 101,
   "metadata": {},
   "outputs": [],
   "source": [
    "from thermo.cost_model.model import HeatModel\n",
    "import numpy as np\n",
    "import pandas as pd\n",
    "import networkx as nx"
   ]
  },
  {
   "cell_type": "code",
   "execution_count": 24,
   "metadata": {},
   "outputs": [],
   "source": [
    "# np.set_printoptions(suppress=True)"
   ]
  },
  {
   "attachments": {},
   "cell_type": "markdown",
   "metadata": {},
   "source": [
    "### Minimal example"
   ]
  },
  {
   "cell_type": "code",
   "execution_count": 271,
   "metadata": {},
   "outputs": [],
   "source": [
    "As = np.array([[0,1,1,0],[1,0,0,1],[1,0,0,1],[0,1,1,0]]) # Adjacency matrix of rooms"
   ]
  },
  {
   "cell_type": "code",
   "execution_count": 280,
   "metadata": {},
   "outputs": [
    {
     "data": {
      "text/plain": [
       "array([[0., 0., 0., 0.],\n",
       "       [1., 0., 0., 0.],\n",
       "       [0., 0., 0., 0.]])"
      ]
     },
     "execution_count": 280,
     "metadata": {},
     "output_type": "execute_result"
    }
   ],
   "source": [
    "state = np.zeros(12)\n",
    "state[4] = 1 # Room 2 is occupied at time t_0 (time slots t_0, t_1, t_2)\n",
    "state.reshape(-1, 4)"
   ]
  },
  {
   "cell_type": "code",
   "execution_count": 276,
   "metadata": {},
   "outputs": [],
   "source": [
    "model = HeatModel(As, n_time_slots=3)"
   ]
  },
  {
   "cell_type": "code",
   "execution_count": 281,
   "metadata": {},
   "outputs": [
    {
     "data": {
      "text/plain": [
       "array([[     0.5,      1. ,      1. ,      1. ],\n",
       "       [100001. ,      0.5,      0.5,      1. ],\n",
       "       [     0.5,      1. ,      1. ,      1. ]])"
      ]
     },
     "execution_count": 281,
     "metadata": {},
     "output_type": "execute_result"
    }
   ],
   "source": [
    "room_optimality = model.run(state)\n",
    "room_optimality.reshape(-1, 4) # rows are time slots, columns are rooms"
   ]
  },
  {
   "attachments": {},
   "cell_type": "markdown",
   "metadata": {},
   "source": [
    "***"
   ]
  },
  {
   "attachments": {},
   "cell_type": "markdown",
   "metadata": {},
   "source": [
    "### Mock data"
   ]
  },
  {
   "cell_type": "code",
   "execution_count": 226,
   "metadata": {},
   "outputs": [
    {
     "data": {
      "image/png": "[encoded data removed]",
      "text/plain": [
       "<Figure size 640x480 with 1 Axes>"
      ]
     },
     "metadata": {},
     "output_type": "display_data"
    }
   ],
   "source": [
    "# N_ROOMS = 10\n",
    "# G = nx.generators.random_graphs.gnp_random_graph(N_ROOMS, p=0.2, seed=4812)\n",
    "# nx.draw(G)"
   ]
  },
  {
   "cell_type": "code",
   "execution_count": 300,
   "metadata": {},
   "outputs": [],
   "source": [
    "# As = nx.adjacency_matrix(G).todense()\n",
    "\n",
    "As = np.array([\n",
    "    [0, 1, 0, 0, 0, 0, 0, 0, 0, 1],\n",
    "    [1, 0, 0, 1, 0, 1, 1, 0, 0, 0],\n",
    "    [0, 0, 0, 1, 0, 0, 0, 0, 0, 1],\n",
    "    [0, 1, 1, 0, 0, 0, 1, 0, 0, 0],\n",
    "    [0, 0, 0, 0, 0, 1, 1, 1, 0, 0],\n",
    "    [0, 1, 0, 0, 1, 0, 0, 0, 0, 0],\n",
    "    [0, 1, 0, 1, 1, 0, 0, 0, 0, 0],\n",
    "    [0, 0, 0, 0, 1, 0, 0, 0, 1, 0],\n",
    "    [0, 0, 0, 0, 0, 0, 0, 1, 0, 0],\n",
    "    [1, 0, 1, 0, 0, 0, 0, 0, 0, 0]\n",
    "])"
   ]
  },
  {
   "attachments": {},
   "cell_type": "markdown",
   "metadata": {},
   "source": [
    "### Mock state"
   ]
  },
  {
   "cell_type": "code",
   "execution_count": 309,
   "metadata": {},
   "outputs": [],
   "source": [
    "# state = np.zeros(12)\n",
    "# state[4] = 1 # Room 1 is occupied at time t_1 (time slots t_0, t_1, t_2)\n",
    "\n",
    "TIMESLOTS = 3\n",
    "state = np.zeros((TIMESLOTS, As.shape[0]))\n",
    "state[0, 2] = 1 # Room C is occupied at time t_0 (time slots t_0, t_1, t_2)\n",
    "state[0, 3] = 1 # Room D is occupied at time t_0 (time slots t_0, t_1, t_2)\n",
    "state[1, 4] = 1 # Room E is occupied at time t_1 (time slots t_0, t_1, t_2)\n",
    "state[2, 6] = 1 # Room G is occupied at time t_2 (time slots t_0, t_1, t_2)"
   ]
  },
  {
   "cell_type": "code",
   "execution_count": 310,
   "metadata": {},
   "outputs": [
    {
     "data": {
      "text/plain": [
       "array([[0., 0., 1., 1., 0., 0., 0., 0., 0., 0.],\n",
       "       [0., 0., 0., 0., 1., 0., 0., 0., 0., 0.],\n",
       "       [0., 0., 0., 0., 0., 0., 1., 0., 0., 0.]])"
      ]
     },
     "execution_count": 310,
     "metadata": {},
     "output_type": "execute_result"
    }
   ],
   "source": [
    "state"
   ]
  },
  {
   "cell_type": "code",
   "execution_count": 311,
   "metadata": {},
   "outputs": [],
   "source": [
    "state = state.flatten()"
   ]
  },
  {
   "attachments": {},
   "cell_type": "markdown",
   "metadata": {},
   "source": [
    "### Define model"
   ]
  },
  {
   "cell_type": "code",
   "execution_count": 312,
   "metadata": {},
   "outputs": [],
   "source": [
    "model = HeatModel(As, n_time_slots=TIMESLOTS)"
   ]
  },
  {
   "attachments": {},
   "cell_type": "markdown",
   "metadata": {},
   "source": [
    "### Run model"
   ]
  },
  {
   "cell_type": "code",
   "execution_count": 313,
   "metadata": {},
   "outputs": [
    {
     "data": {
      "text/plain": [
       "array([[     1. ,      0.5, 100000.5, 100000.5,      0.5,      1. ,\n",
       "             0.5,      1. ,      1. ,      0.5],\n",
       "       [     1. ,      1. ,      0.5,      0.5, 100001. ,      0.5,\n",
       "             0. ,      0.5,      1. ,      1. ],\n",
       "       [     1. ,      0.5,      1. ,      0.5,      0. ,      1. ,\n",
       "        100001. ,      1. ,      1. ,      1. ]])"
      ]
     },
     "execution_count": 313,
     "metadata": {},
     "output_type": "execute_result"
    }
   ],
   "source": [
    "room_optimality = model.run(state)\n",
    "room_optimality.reshape(-1, 10) # rows are time slots, columns are rooms"
   ]
  },
  {
   "cell_type": "code",
   "execution_count": 314,
   "metadata": {},
   "outputs": [
    {
     "data": {
      "text/plain": [
       "array([[     1. ,      1. ,      1. ],\n",
       "       [     0.5,      1. ,      0.5],\n",
       "       [100000.5,      0.5,      1. ],\n",
       "       [100000.5,      0.5,      0.5],\n",
       "       [     0.5, 100001. ,      0. ],\n",
       "       [     1. ,      0.5,      1. ],\n",
       "       [     0.5,      0. , 100001. ],\n",
       "       [     1. ,      0.5,      1. ],\n",
       "       [     1. ,      1. ,      1. ],\n",
       "       [     0.5,      1. ,      1. ]])"
      ]
     },
     "execution_count": 314,
     "metadata": {},
     "output_type": "execute_result"
    }
   ],
   "source": [
    "room_optimality.reshape(-1, 10).T # columns are time slots, rows are rooms"
   ]
  },
  {
   "attachments": {},
   "cell_type": "markdown",
   "metadata": {},
   "source": [
    "### Check recommendations"
   ]
  },
  {
   "cell_type": "code",
   "execution_count": 315,
   "metadata": {},
   "outputs": [
    {
     "data": {
      "text/html": [
       "<div>\n",
       "<style scoped>\n",
       "    .dataframe tbody tr th:only-of-type {\n",
       "        vertical-align: middle;\n",
       "    }\n",
       "\n",
       "    .dataframe tbody tr th {\n",
       "        vertical-align: top;\n",
       "    }\n",
       "\n",
       "    .dataframe thead th {\n",
       "        text-align: right;\n",
       "    }\n",
       "</style>\n",
       "<table border=\"1\" class=\"dataframe\">\n",
       "  <thead>\n",
       "    <tr style=\"text-align: right;\">\n",
       "      <th></th>\n",
       "      <th>Room A</th>\n",
       "      <th>Room B</th>\n",
       "      <th>Room C</th>\n",
       "      <th>Room D</th>\n",
       "      <th>Room E</th>\n",
       "      <th>Room F</th>\n",
       "      <th>Room G</th>\n",
       "      <th>Room H</th>\n",
       "      <th>Room I</th>\n",
       "      <th>Room J</th>\n",
       "    </tr>\n",
       "  </thead>\n",
       "  <tbody>\n",
       "    <tr>\n",
       "      <th>t_0</th>\n",
       "      <td>1.0</td>\n",
       "      <td>0.5</td>\n",
       "      <td>100000.5</td>\n",
       "      <td>100000.5</td>\n",
       "      <td>0.5</td>\n",
       "      <td>1.0</td>\n",
       "      <td>0.5</td>\n",
       "      <td>1.0</td>\n",
       "      <td>1.0</td>\n",
       "      <td>0.5</td>\n",
       "    </tr>\n",
       "    <tr>\n",
       "      <th>t_1</th>\n",
       "      <td>1.0</td>\n",
       "      <td>1.0</td>\n",
       "      <td>0.5</td>\n",
       "      <td>0.5</td>\n",
       "      <td>100001.0</td>\n",
       "      <td>0.5</td>\n",
       "      <td>0.0</td>\n",
       "      <td>0.5</td>\n",
       "      <td>1.0</td>\n",
       "      <td>1.0</td>\n",
       "    </tr>\n",
       "    <tr>\n",
       "      <th>t_2</th>\n",
       "      <td>1.0</td>\n",
       "      <td>0.5</td>\n",
       "      <td>1.0</td>\n",
       "      <td>0.5</td>\n",
       "      <td>0.0</td>\n",
       "      <td>1.0</td>\n",
       "      <td>100001.0</td>\n",
       "      <td>1.0</td>\n",
       "      <td>1.0</td>\n",
       "      <td>1.0</td>\n",
       "    </tr>\n",
       "  </tbody>\n",
       "</table>\n",
       "</div>"
      ],
      "text/plain": [
       "     Room A  Room B    Room C    Room D    Room E  Room F    Room G  Room H  \\\n",
       "t_0     1.0     0.5  100000.5  100000.5       0.5     1.0       0.5     1.0   \n",
       "t_1     1.0     1.0       0.5       0.5  100001.0     0.5       0.0     0.5   \n",
       "t_2     1.0     0.5       1.0       0.5       0.0     1.0  100001.0     1.0   \n",
       "\n",
       "     Room I  Room J  \n",
       "t_0     1.0     0.5  \n",
       "t_1     1.0     1.0  \n",
       "t_2     1.0     1.0  "
      ]
     },
     "execution_count": 315,
     "metadata": {},
     "output_type": "execute_result"
    }
   ],
   "source": [
    "\n",
    "def to_frame(optimalities, room_names):\n",
    "    \n",
    "    opt = optimalities.reshape(-1, len(room_names))\n",
    "    return pd.DataFrame(\n",
    "        opt,\n",
    "        columns=room_names,\n",
    "        index=(f't_{i}' for i in range(opt.shape[0])),\n",
    "    )\n",
    "\n",
    "optimality_df = to_frame(\n",
    "    room_optimality, \n",
    "    room_names=('Room A', 'Room B', 'Room C', 'Room D', 'Room E', 'Room F', 'Room G', 'Room H', 'Room I', 'Room J')\n",
    ")\n",
    "optimality_df"
   ]
  },
  {
   "cell_type": "code",
   "execution_count": 320,
   "metadata": {},
   "outputs": [
    {
     "data": {
      "text/html": [
       "<style type=\"text/css\">\n",
       "#T_55967_row0_col0, #T_55967_row0_col5, #T_55967_row0_col7, #T_55967_row0_col8, #T_55967_row1_col0, #T_55967_row1_col1, #T_55967_row1_col8, #T_55967_row1_col9, #T_55967_row2_col0, #T_55967_row2_col2, #T_55967_row2_col5, #T_55967_row2_col7, #T_55967_row2_col8, #T_55967_row2_col9 {\n",
       "  background-color: #fde725;\n",
       "  color: #000000;\n",
       "}\n",
       "#T_55967_row0_col1, #T_55967_row0_col4, #T_55967_row0_col6, #T_55967_row0_col9, #T_55967_row1_col6, #T_55967_row2_col4 {\n",
       "  background-color: #21918c;\n",
       "  color: #f1f1f1;\n",
       "}\n",
       "#T_55967_row0_col2, #T_55967_row0_col3, #T_55967_row1_col4, #T_55967_row2_col6 {\n",
       "  background-color: #000000;\n",
       "  color: #f1f1f1;\n",
       "}\n",
       "#T_55967_row1_col2, #T_55967_row1_col3, #T_55967_row1_col5, #T_55967_row1_col7, #T_55967_row2_col1, #T_55967_row2_col3 {\n",
       "  background-color: #5ec962;\n",
       "  color: #000000;\n",
       "}\n",
       "</style>\n",
       "<table id=\"T_55967\">\n",
       "  <thead>\n",
       "    <tr>\n",
       "      <th class=\"blank level0\" >&nbsp;</th>\n",
       "      <th id=\"T_55967_level0_col0\" class=\"col_heading level0 col0\" >Room A</th>\n",
       "      <th id=\"T_55967_level0_col1\" class=\"col_heading level0 col1\" >Room B</th>\n",
       "      <th id=\"T_55967_level0_col2\" class=\"col_heading level0 col2\" >Room C</th>\n",
       "      <th id=\"T_55967_level0_col3\" class=\"col_heading level0 col3\" >Room D</th>\n",
       "      <th id=\"T_55967_level0_col4\" class=\"col_heading level0 col4\" >Room E</th>\n",
       "      <th id=\"T_55967_level0_col5\" class=\"col_heading level0 col5\" >Room F</th>\n",
       "      <th id=\"T_55967_level0_col6\" class=\"col_heading level0 col6\" >Room G</th>\n",
       "      <th id=\"T_55967_level0_col7\" class=\"col_heading level0 col7\" >Room H</th>\n",
       "      <th id=\"T_55967_level0_col8\" class=\"col_heading level0 col8\" >Room I</th>\n",
       "      <th id=\"T_55967_level0_col9\" class=\"col_heading level0 col9\" >Room J</th>\n",
       "    </tr>\n",
       "  </thead>\n",
       "  <tbody>\n",
       "    <tr>\n",
       "      <th id=\"T_55967_level0_row0\" class=\"row_heading level0 row0\" >t_0</th>\n",
       "      <td id=\"T_55967_row0_col0\" class=\"data row0 col0\" >1.0</td>\n",
       "      <td id=\"T_55967_row0_col1\" class=\"data row0 col1\" >0.5</td>\n",
       "      <td id=\"T_55967_row0_col2\" class=\"data row0 col2\" >BOOKED</td>\n",
       "      <td id=\"T_55967_row0_col3\" class=\"data row0 col3\" >BOOKED</td>\n",
       "      <td id=\"T_55967_row0_col4\" class=\"data row0 col4\" >0.5</td>\n",
       "      <td id=\"T_55967_row0_col5\" class=\"data row0 col5\" >1.0</td>\n",
       "      <td id=\"T_55967_row0_col6\" class=\"data row0 col6\" >0.5</td>\n",
       "      <td id=\"T_55967_row0_col7\" class=\"data row0 col7\" >1.0</td>\n",
       "      <td id=\"T_55967_row0_col8\" class=\"data row0 col8\" >1.0</td>\n",
       "      <td id=\"T_55967_row0_col9\" class=\"data row0 col9\" >0.5</td>\n",
       "    </tr>\n",
       "    <tr>\n",
       "      <th id=\"T_55967_level0_row1\" class=\"row_heading level0 row1\" >t_1</th>\n",
       "      <td id=\"T_55967_row1_col0\" class=\"data row1 col0\" >1.0</td>\n",
       "      <td id=\"T_55967_row1_col1\" class=\"data row1 col1\" >1.0</td>\n",
       "      <td id=\"T_55967_row1_col2\" class=\"data row1 col2\" >0.5</td>\n",
       "      <td id=\"T_55967_row1_col3\" class=\"data row1 col3\" >0.5</td>\n",
       "      <td id=\"T_55967_row1_col4\" class=\"data row1 col4\" >BOOKED</td>\n",
       "      <td id=\"T_55967_row1_col5\" class=\"data row1 col5\" >0.5</td>\n",
       "      <td id=\"T_55967_row1_col6\" class=\"data row1 col6\" >0.0</td>\n",
       "      <td id=\"T_55967_row1_col7\" class=\"data row1 col7\" >0.5</td>\n",
       "      <td id=\"T_55967_row1_col8\" class=\"data row1 col8\" >1.0</td>\n",
       "      <td id=\"T_55967_row1_col9\" class=\"data row1 col9\" >1.0</td>\n",
       "    </tr>\n",
       "    <tr>\n",
       "      <th id=\"T_55967_level0_row2\" class=\"row_heading level0 row2\" >t_2</th>\n",
       "      <td id=\"T_55967_row2_col0\" class=\"data row2 col0\" >1.0</td>\n",
       "      <td id=\"T_55967_row2_col1\" class=\"data row2 col1\" >0.5</td>\n",
       "      <td id=\"T_55967_row2_col2\" class=\"data row2 col2\" >1.0</td>\n",
       "      <td id=\"T_55967_row2_col3\" class=\"data row2 col3\" >0.5</td>\n",
       "      <td id=\"T_55967_row2_col4\" class=\"data row2 col4\" >0.0</td>\n",
       "      <td id=\"T_55967_row2_col5\" class=\"data row2 col5\" >1.0</td>\n",
       "      <td id=\"T_55967_row2_col6\" class=\"data row2 col6\" >BOOKED</td>\n",
       "      <td id=\"T_55967_row2_col7\" class=\"data row2 col7\" >1.0</td>\n",
       "      <td id=\"T_55967_row2_col8\" class=\"data row2 col8\" >1.0</td>\n",
       "      <td id=\"T_55967_row2_col9\" class=\"data row2 col9\" >1.0</td>\n",
       "    </tr>\n",
       "  </tbody>\n",
       "</table>\n"
      ],
      "text/plain": [
       "<pandas.io.formats.style.Styler at 0x7f612291a230>"
      ]
     },
     "execution_count": 320,
     "metadata": {},
     "output_type": "execute_result"
    }
   ],
   "source": [
    "def show_recommendations(df):\n",
    "    \"\"\" Color code recommendations in table.\"\"\"\n",
    "    return (\n",
    "        df.replace(100001, np.nan).replace(100000.5, np.nan)\n",
    "        .style.background_gradient(cmap='viridis', high=0, low=1, axis=1)\n",
    "        .format(precision=1, na_rep=\"BOOKED\")\n",
    "    )\n",
    "show_recommendations(optimality_df)"
   ]
  },
  {
   "cell_type": "code",
   "execution_count": 321,
   "metadata": {},
   "outputs": [
    {
     "data": {
      "text/html": [
       "<div>\n",
       "<style scoped>\n",
       "    .dataframe tbody tr th:only-of-type {\n",
       "        vertical-align: middle;\n",
       "    }\n",
       "\n",
       "    .dataframe tbody tr th {\n",
       "        vertical-align: top;\n",
       "    }\n",
       "\n",
       "    .dataframe thead th {\n",
       "        text-align: right;\n",
       "    }\n",
       "</style>\n",
       "<table border=\"1\" class=\"dataframe\">\n",
       "  <thead>\n",
       "    <tr style=\"text-align: right;\">\n",
       "      <th></th>\n",
       "      <th>Time Slot</th>\n",
       "      <th>Room</th>\n",
       "      <th>Optimality</th>\n",
       "    </tr>\n",
       "  </thead>\n",
       "  <tbody>\n",
       "    <tr>\n",
       "      <th>19</th>\n",
       "      <td>t_1</td>\n",
       "      <td>Room G</td>\n",
       "      <td>0.0</td>\n",
       "    </tr>\n",
       "    <tr>\n",
       "      <th>14</th>\n",
       "      <td>t_2</td>\n",
       "      <td>Room E</td>\n",
       "      <td>0.0</td>\n",
       "    </tr>\n",
       "    <tr>\n",
       "      <th>3</th>\n",
       "      <td>t_0</td>\n",
       "      <td>Room B</td>\n",
       "      <td>0.5</td>\n",
       "    </tr>\n",
       "    <tr>\n",
       "      <th>12</th>\n",
       "      <td>t_0</td>\n",
       "      <td>Room E</td>\n",
       "      <td>0.5</td>\n",
       "    </tr>\n",
       "    <tr>\n",
       "      <th>18</th>\n",
       "      <td>t_0</td>\n",
       "      <td>Room G</td>\n",
       "      <td>0.5</td>\n",
       "    </tr>\n",
       "    <tr>\n",
       "      <th>27</th>\n",
       "      <td>t_0</td>\n",
       "      <td>Room J</td>\n",
       "      <td>0.5</td>\n",
       "    </tr>\n",
       "    <tr>\n",
       "      <th>7</th>\n",
       "      <td>t_1</td>\n",
       "      <td>Room C</td>\n",
       "      <td>0.5</td>\n",
       "    </tr>\n",
       "    <tr>\n",
       "      <th>10</th>\n",
       "      <td>t_1</td>\n",
       "      <td>Room D</td>\n",
       "      <td>0.5</td>\n",
       "    </tr>\n",
       "    <tr>\n",
       "      <th>16</th>\n",
       "      <td>t_1</td>\n",
       "      <td>Room F</td>\n",
       "      <td>0.5</td>\n",
       "    </tr>\n",
       "    <tr>\n",
       "      <th>22</th>\n",
       "      <td>t_1</td>\n",
       "      <td>Room H</td>\n",
       "      <td>0.5</td>\n",
       "    </tr>\n",
       "    <tr>\n",
       "      <th>5</th>\n",
       "      <td>t_2</td>\n",
       "      <td>Room B</td>\n",
       "      <td>0.5</td>\n",
       "    </tr>\n",
       "    <tr>\n",
       "      <th>11</th>\n",
       "      <td>t_2</td>\n",
       "      <td>Room D</td>\n",
       "      <td>0.5</td>\n",
       "    </tr>\n",
       "    <tr>\n",
       "      <th>0</th>\n",
       "      <td>t_0</td>\n",
       "      <td>Room A</td>\n",
       "      <td>1.0</td>\n",
       "    </tr>\n",
       "    <tr>\n",
       "      <th>15</th>\n",
       "      <td>t_0</td>\n",
       "      <td>Room F</td>\n",
       "      <td>1.0</td>\n",
       "    </tr>\n",
       "    <tr>\n",
       "      <th>21</th>\n",
       "      <td>t_0</td>\n",
       "      <td>Room H</td>\n",
       "      <td>1.0</td>\n",
       "    </tr>\n",
       "    <tr>\n",
       "      <th>24</th>\n",
       "      <td>t_0</td>\n",
       "      <td>Room I</td>\n",
       "      <td>1.0</td>\n",
       "    </tr>\n",
       "    <tr>\n",
       "      <th>1</th>\n",
       "      <td>t_1</td>\n",
       "      <td>Room A</td>\n",
       "      <td>1.0</td>\n",
       "    </tr>\n",
       "    <tr>\n",
       "      <th>4</th>\n",
       "      <td>t_1</td>\n",
       "      <td>Room B</td>\n",
       "      <td>1.0</td>\n",
       "    </tr>\n",
       "    <tr>\n",
       "      <th>25</th>\n",
       "      <td>t_1</td>\n",
       "      <td>Room I</td>\n",
       "      <td>1.0</td>\n",
       "    </tr>\n",
       "    <tr>\n",
       "      <th>28</th>\n",
       "      <td>t_1</td>\n",
       "      <td>Room J</td>\n",
       "      <td>1.0</td>\n",
       "    </tr>\n",
       "    <tr>\n",
       "      <th>2</th>\n",
       "      <td>t_2</td>\n",
       "      <td>Room A</td>\n",
       "      <td>1.0</td>\n",
       "    </tr>\n",
       "    <tr>\n",
       "      <th>8</th>\n",
       "      <td>t_2</td>\n",
       "      <td>Room C</td>\n",
       "      <td>1.0</td>\n",
       "    </tr>\n",
       "    <tr>\n",
       "      <th>17</th>\n",
       "      <td>t_2</td>\n",
       "      <td>Room F</td>\n",
       "      <td>1.0</td>\n",
       "    </tr>\n",
       "    <tr>\n",
       "      <th>23</th>\n",
       "      <td>t_2</td>\n",
       "      <td>Room H</td>\n",
       "      <td>1.0</td>\n",
       "    </tr>\n",
       "    <tr>\n",
       "      <th>26</th>\n",
       "      <td>t_2</td>\n",
       "      <td>Room I</td>\n",
       "      <td>1.0</td>\n",
       "    </tr>\n",
       "    <tr>\n",
       "      <th>29</th>\n",
       "      <td>t_2</td>\n",
       "      <td>Room J</td>\n",
       "      <td>1.0</td>\n",
       "    </tr>\n",
       "  </tbody>\n",
       "</table>\n",
       "</div>"
      ],
      "text/plain": [
       "   Time Slot    Room  Optimality\n",
       "19       t_1  Room G         0.0\n",
       "14       t_2  Room E         0.0\n",
       "3        t_0  Room B         0.5\n",
       "12       t_0  Room E         0.5\n",
       "18       t_0  Room G         0.5\n",
       "27       t_0  Room J         0.5\n",
       "7        t_1  Room C         0.5\n",
       "10       t_1  Room D         0.5\n",
       "16       t_1  Room F         0.5\n",
       "22       t_1  Room H         0.5\n",
       "5        t_2  Room B         0.5\n",
       "11       t_2  Room D         0.5\n",
       "0        t_0  Room A         1.0\n",
       "15       t_0  Room F         1.0\n",
       "21       t_0  Room H         1.0\n",
       "24       t_0  Room I         1.0\n",
       "1        t_1  Room A         1.0\n",
       "4        t_1  Room B         1.0\n",
       "25       t_1  Room I         1.0\n",
       "28       t_1  Room J         1.0\n",
       "2        t_2  Room A         1.0\n",
       "8        t_2  Room C         1.0\n",
       "17       t_2  Room F         1.0\n",
       "23       t_2  Room H         1.0\n",
       "26       t_2  Room I         1.0\n",
       "29       t_2  Room J         1.0"
      ]
     },
     "execution_count": 321,
     "metadata": {},
     "output_type": "execute_result"
    }
   ],
   "source": [
    "def list_recommendations(df):\n",
    "    \"\"\" List recommendations in table.\"\"\"\n",
    "    return (\n",
    "        df\n",
    "        .reset_index()\n",
    "        .melt(id_vars='index')\n",
    "        .rename(columns={'index': 'Time Slot', 'variable': 'Room', 'value': 'Optimality'})\n",
    "        .sort_values(by=['Optimality', 'Time Slot'])\n",
    "        [lambda d: d['Optimality'] < 100]\n",
    "    )\n",
    "list_recommendations(optimality_df)"
   ]
  }
 ],
 "metadata": {
  "kernelspec": {
   "display_name": ".venv",
   "language": "python",
   "name": "python3"
  },
  "language_info": {
   "codemirror_mode": {
    "name": "ipython",
    "version": 3
   },
   "file_extension": ".py",
   "mimetype": "text/x-python",
   "name": "python",
   "nbconvert_exporter": "python",
   "pygments_lexer": "ipython3",
   "version": "3.10.6"
  },
  "orig_nbformat": 4
 },
 "nbformat": 4,
 "nbformat_minor": 2
}
